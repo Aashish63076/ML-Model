{
  "nbformat": 4,
  "nbformat_minor": 0,
  "metadata": {
    "colab": {
      "name": " digit recognisation",
      "provenance": [],
      "collapsed_sections": []
    },
    "kernelspec": {
      "name": "python3",
      "display_name": "Python 3"
    },
    "language_info": {
      "name": "python"
    }
  },
  "cells": [
    {
      "cell_type": "markdown",
      "metadata": {
        "id": "A_K0631mTMqB"
      },
      "source": [
        "**importing different library**"
      ]
    },
    {
      "cell_type": "code",
      "metadata": {
        "id": "1jpvg97DPQuz"
      },
      "source": [
        "import pandas as pd\n",
        "import numpy as np\n",
        "from sklearn.datasets import load_digits\n",
        "import joblib"
      ],
      "execution_count": 31,
      "outputs": []
    },
    {
      "cell_type": "markdown",
      "metadata": {
        "id": "l_g6xBeoTVc_"
      },
      "source": [
        "**loading dataset**"
      ]
    },
    {
      "cell_type": "code",
      "metadata": {
        "id": "y8fhitccTT9y"
      },
      "source": [
        "dataset=load_digits()\n"
      ],
      "execution_count": null,
      "outputs": []
    },
    {
      "cell_type": "markdown",
      "metadata": {
        "id": "jy3fNgZ4TfwC"
      },
      "source": [
        "**Summry of dataset**"
      ]
    },
    {
      "cell_type": "code",
      "metadata": {
        "colab": {
          "base_uri": "https://localhost:8080/"
        },
        "id": "Mx1iC78RTafX",
        "outputId": "6c31a440-2ddf-41de-d8f7-2efa5ebbcd2d"
      },
      "source": [
        "print(dataset.data)\n",
        "print(dataset.target)\n",
        "print(dataset.images[3])\n",
        "print(dataset.data.shape)\n",
        "dataimageLength=len(dataset.images)\n",
        "print(dataimageLength)"
      ],
      "execution_count": null,
      "outputs": [
        {
          "output_type": "stream",
          "name": "stdout",
          "text": [
            "[[ 0.  0.  5. ...  0.  0.  0.]\n",
            " [ 0.  0.  0. ... 10.  0.  0.]\n",
            " [ 0.  0.  0. ... 16.  9.  0.]\n",
            " ...\n",
            " [ 0.  0.  1. ...  6.  0.  0.]\n",
            " [ 0.  0.  2. ... 12.  0.  0.]\n",
            " [ 0.  0. 10. ... 12.  1.  0.]]\n",
            "[0 1 2 ... 8 9 8]\n",
            "[[ 0.  0.  7. 15. 13.  1.  0.  0.]\n",
            " [ 0.  8. 13.  6. 15.  4.  0.  0.]\n",
            " [ 0.  2.  1. 13. 13.  0.  0.  0.]\n",
            " [ 0.  0.  2. 15. 11.  1.  0.  0.]\n",
            " [ 0.  0.  0.  1. 12. 12.  1.  0.]\n",
            " [ 0.  0.  0.  0.  1. 10.  8.  0.]\n",
            " [ 0.  0.  8.  4.  5. 14.  9.  0.]\n",
            " [ 0.  0.  7. 13. 13.  9.  0.  0.]]\n",
            "(1797, 64)\n",
            "1797\n"
          ]
        }
      ]
    },
    {
      "cell_type": "code",
      "metadata": {
        "colab": {
          "base_uri": "https://localhost:8080/",
          "height": 428
        },
        "id": "EoaI8g2uVA07",
        "outputId": "5bbe0e9d-8e75-43be-d60f-98a010878f14"
      },
      "source": [
        "import matplotlib.pyplot as plt\n",
        "plt.gray()\n",
        "plt.matshow(dataset.images[5])\n",
        "plt.show()\n",
        "dataset.images[5]\n"
      ],
      "execution_count": null,
      "outputs": [
        {
          "output_type": "display_data",
          "data": {
            "text/plain": [
              "<Figure size 432x288 with 0 Axes>"
            ]
          },
          "metadata": {}
        },
        {
          "output_type": "display_data",
          "data": {
            "image/png": "[encoded data removed]",
            "text/plain": [
              "<Figure size 288x288 with 1 Axes>"
            ]
          },
          "metadata": {
            "needs_background": "light"
          }
        },
        {
          "output_type": "execute_result",
          "data": {
            "text/plain": [
              "array([[ 0.,  0., 12., 10.,  0.,  0.,  0.,  0.],\n",
              "       [ 0.,  0., 14., 16., 16., 14.,  0.,  0.],\n",
              "       [ 0.,  0., 13., 16., 15., 10.,  1.,  0.],\n",
              "       [ 0.,  0., 11., 16., 16.,  7.,  0.,  0.],\n",
              "       [ 0.,  0.,  0.,  4.,  7., 16.,  7.,  0.],\n",
              "       [ 0.,  0.,  0.,  0.,  4., 16.,  9.,  0.],\n",
              "       [ 0.,  0.,  5.,  4., 12., 16.,  4.,  0.],\n",
              "       [ 0.,  0.,  9., 16., 16., 10.,  0.,  0.]])"
            ]
          },
          "metadata": {},
          "execution_count": 30
        }
      ]
    },
    {
      "cell_type": "markdown",
      "metadata": {
        "id": "U-SNvXX4T0e3"
      },
      "source": [
        "**Data segregation**"
      ]
    },
    {
      "cell_type": "code",
      "metadata": {
        "colab": {
          "base_uri": "https://localhost:8080/"
        },
        "id": "H07bWmHCYex1",
        "outputId": "f70414f8-a3f8-486a-835c-e746a0901a38"
      },
      "source": [
        "x=dataset.images.reshape((dataimageLength,-1))\n",
        "y=dataset.target\n",
        "print(x)\n",
        "print(y)"
      ],
      "execution_count": null,
      "outputs": [
        {
          "output_type": "stream",
          "name": "stdout",
          "text": [
            "[[ 0.  0.  5. ...  0.  0.  0.]\n",
            " [ 0.  0.  0. ... 10.  0.  0.]\n",
            " [ 0.  0.  0. ... 16.  9.  0.]\n",
            " ...\n",
            " [ 0.  0.  1. ...  6.  0.  0.]\n",
            " [ 0.  0.  2. ... 12.  0.  0.]\n",
            " [ 0.  0. 10. ... 12.  1.  0.]]\n",
            "[0 1 2 ... 8 9 8]\n"
          ]
        }
      ]
    },
    {
      "cell_type": "markdown",
      "metadata": {
        "id": "FkaaHPBdT38e"
      },
      "source": [
        "**Data spliting in Traning and testing**"
      ]
    },
    {
      "cell_type": "code",
      "metadata": {
        "colab": {
          "base_uri": "https://localhost:8080/"
        },
        "id": "YwrAV7WZa0VU",
        "outputId": "666311d4-bcad-4c72-f3f9-6fc3bda26fb3"
      },
      "source": [
        "from sklearn.model_selection import train_test_split\n",
        "x_train,x_test,y_train,y_test=train_test_split(x,y,test_size=0.25,random_state=1)\n",
        "print(x_train.shape)\n",
        "print(x_test.shape)"
      ],
      "execution_count": null,
      "outputs": [
        {
          "output_type": "stream",
          "name": "stdout",
          "text": [
            "(1347, 64)\n",
            "(450, 64)\n"
          ]
        }
      ]
    },
    {
      "cell_type": "markdown",
      "metadata": {
        "id": "g8fp6aELUT98"
      },
      "source": [
        "## model selection"
      ]
    },
    {
      "cell_type": "code",
      "metadata": {
        "colab": {
          "base_uri": "https://localhost:8080/"
        },
        "id": "j2QSkL80cBQ8",
        "outputId": "632dfb59-821e-4436-8c14-f405d7e1b3c9"
      },
      "source": [
        "from sklearn.svm import SVC\n",
        "model=SVC(kernel=\"linear\")\n",
        "model.fit(x_train,y_train)"
      ],
      "execution_count": null,
      "outputs": [
        {
          "output_type": "execute_result",
          "data": {
            "text/plain": [
              "SVC(C=1.0, break_ties=False, cache_size=200, class_weight=None, coef0=0.0,\n",
              "    decision_function_shape='ovr', degree=3, gamma='scale', kernel='linear',\n",
              "    max_iter=-1, probability=False, random_state=None, shrinking=True,\n",
              "    tol=0.001, verbose=False)"
            ]
          },
          "metadata": {},
          "execution_count": 12
        }
      ]
    },
    {
      "cell_type": "markdown",
      "metadata": {
        "id": "QIzKJZC6UhIm"
      },
      "source": [
        "**Prediction**"
      ]
    },
    {
      "cell_type": "code",
      "metadata": {
        "id": "pFH0YAp1c5-e"
      },
      "source": [
        "y_pred=model.predict(x_test)"
      ],
      "execution_count": null,
      "outputs": []
    },
    {
      "cell_type": "markdown",
      "metadata": {
        "id": "RqqGUE_gUmud"
      },
      "source": [
        "**Data presentation in Compretive manner**"
      ]
    },
    {
      "cell_type": "code",
      "metadata": {
        "colab": {
          "base_uri": "https://localhost:8080/"
        },
        "id": "JEVG9_Daer-n",
        "outputId": "8b48c05f-1e60-4819-ce1a-0dd61fe1ddc9"
      },
      "source": [
        "#p=y_pred.reshape(len(y_pred),1)\n",
        "#q=y_test.reshape(len(y_test),1)\n",
        "print(np.concatenate((   y_pred.reshape(len(y_pred),1)  ,y_test.reshape(len(y_test),1) ),1    ))\n"
      ],
      "execution_count": null,
      "outputs": [
        {
          "output_type": "stream",
          "name": "stdout",
          "text": [
            "[[1 1]\n",
            " [5 5]\n",
            " [0 0]\n",
            " [7 7]\n",
            " [1 1]\n",
            " [0 0]\n",
            " [6 6]\n",
            " [1 1]\n",
            " [5 5]\n",
            " [4 4]\n",
            " [9 9]\n",
            " [2 2]\n",
            " [7 7]\n",
            " [8 8]\n",
            " [4 4]\n",
            " [6 6]\n",
            " [9 9]\n",
            " [3 3]\n",
            " [7 7]\n",
            " [4 4]\n",
            " [7 7]\n",
            " [1 1]\n",
            " [8 8]\n",
            " [6 6]\n",
            " [0 0]\n",
            " [9 9]\n",
            " [6 6]\n",
            " [1 1]\n",
            " [3 3]\n",
            " [7 7]\n",
            " [5 5]\n",
            " [9 9]\n",
            " [8 8]\n",
            " [3 3]\n",
            " [2 2]\n",
            " [8 8]\n",
            " [8 8]\n",
            " [1 1]\n",
            " [1 1]\n",
            " [0 0]\n",
            " [7 7]\n",
            " [9 9]\n",
            " [0 0]\n",
            " [0 0]\n",
            " [8 8]\n",
            " [7 7]\n",
            " [2 2]\n",
            " [7 7]\n",
            " [4 4]\n",
            " [3 3]\n",
            " [4 4]\n",
            " [3 3]\n",
            " [4 4]\n",
            " [0 0]\n",
            " [4 4]\n",
            " [7 7]\n",
            " [0 0]\n",
            " [5 5]\n",
            " [5 5]\n",
            " [5 5]\n",
            " [2 2]\n",
            " [1 1]\n",
            " [7 7]\n",
            " [0 0]\n",
            " [5 5]\n",
            " [1 1]\n",
            " [8 8]\n",
            " [3 3]\n",
            " [3 3]\n",
            " [4 4]\n",
            " [0 0]\n",
            " [3 3]\n",
            " [7 7]\n",
            " [4 4]\n",
            " [3 3]\n",
            " [4 4]\n",
            " [2 2]\n",
            " [9 9]\n",
            " [7 7]\n",
            " [3 3]\n",
            " [2 2]\n",
            " [5 5]\n",
            " [3 3]\n",
            " [4 4]\n",
            " [1 1]\n",
            " [5 5]\n",
            " [5 5]\n",
            " [2 2]\n",
            " [5 5]\n",
            " [2 2]\n",
            " [2 2]\n",
            " [2 2]\n",
            " [2 2]\n",
            " [7 7]\n",
            " [0 0]\n",
            " [8 8]\n",
            " [1 1]\n",
            " [7 7]\n",
            " [4 4]\n",
            " [2 2]\n",
            " [3 3]\n",
            " [8 8]\n",
            " [2 2]\n",
            " [3 3]\n",
            " [3 3]\n",
            " [0 0]\n",
            " [2 2]\n",
            " [9 9]\n",
            " [5 9]\n",
            " [2 2]\n",
            " [3 3]\n",
            " [2 2]\n",
            " [8 8]\n",
            " [1 1]\n",
            " [1 1]\n",
            " [9 9]\n",
            " [1 1]\n",
            " [2 2]\n",
            " [0 0]\n",
            " [4 4]\n",
            " [8 8]\n",
            " [5 5]\n",
            " [4 4]\n",
            " [4 4]\n",
            " [7 7]\n",
            " [6 6]\n",
            " [7 7]\n",
            " [6 6]\n",
            " [6 6]\n",
            " [1 1]\n",
            " [7 7]\n",
            " [5 5]\n",
            " [6 6]\n",
            " [3 3]\n",
            " [8 8]\n",
            " [3 3]\n",
            " [7 7]\n",
            " [1 1]\n",
            " [8 8]\n",
            " [5 5]\n",
            " [3 3]\n",
            " [4 4]\n",
            " [7 7]\n",
            " [8 8]\n",
            " [5 5]\n",
            " [0 0]\n",
            " [6 6]\n",
            " [0 0]\n",
            " [6 6]\n",
            " [3 3]\n",
            " [7 7]\n",
            " [6 6]\n",
            " [5 5]\n",
            " [6 6]\n",
            " [2 2]\n",
            " [2 2]\n",
            " [2 2]\n",
            " [3 3]\n",
            " [0 0]\n",
            " [7 7]\n",
            " [6 6]\n",
            " [5 5]\n",
            " [6 6]\n",
            " [4 4]\n",
            " [1 1]\n",
            " [0 0]\n",
            " [6 6]\n",
            " [0 0]\n",
            " [6 6]\n",
            " [4 4]\n",
            " [0 0]\n",
            " [9 9]\n",
            " [3 3]\n",
            " [5 8]\n",
            " [1 1]\n",
            " [2 2]\n",
            " [3 3]\n",
            " [1 1]\n",
            " [9 9]\n",
            " [0 0]\n",
            " [7 7]\n",
            " [6 6]\n",
            " [2 2]\n",
            " [9 9]\n",
            " [3 3]\n",
            " [5 5]\n",
            " [3 3]\n",
            " [4 4]\n",
            " [6 6]\n",
            " [3 3]\n",
            " [3 3]\n",
            " [7 7]\n",
            " [4 4]\n",
            " [9 9]\n",
            " [2 2]\n",
            " [7 7]\n",
            " [6 6]\n",
            " [1 1]\n",
            " [6 6]\n",
            " [8 8]\n",
            " [4 4]\n",
            " [0 0]\n",
            " [3 3]\n",
            " [1 1]\n",
            " [0 0]\n",
            " [9 9]\n",
            " [9 9]\n",
            " [9 9]\n",
            " [0 0]\n",
            " [1 1]\n",
            " [8 8]\n",
            " [6 6]\n",
            " [8 8]\n",
            " [0 0]\n",
            " [9 9]\n",
            " [5 5]\n",
            " [9 9]\n",
            " [8 8]\n",
            " [2 2]\n",
            " [3 3]\n",
            " [5 5]\n",
            " [3 3]\n",
            " [0 0]\n",
            " [8 8]\n",
            " [7 7]\n",
            " [4 4]\n",
            " [0 0]\n",
            " [3 3]\n",
            " [3 3]\n",
            " [3 3]\n",
            " [6 6]\n",
            " [3 3]\n",
            " [3 3]\n",
            " [2 2]\n",
            " [9 9]\n",
            " [1 1]\n",
            " [6 6]\n",
            " [9 9]\n",
            " [0 0]\n",
            " [4 4]\n",
            " [2 2]\n",
            " [2 2]\n",
            " [7 7]\n",
            " [9 9]\n",
            " [1 1]\n",
            " [6 6]\n",
            " [7 7]\n",
            " [6 6]\n",
            " [3 3]\n",
            " [9 7]\n",
            " [1 1]\n",
            " [8 9]\n",
            " [3 3]\n",
            " [4 4]\n",
            " [0 0]\n",
            " [6 6]\n",
            " [4 4]\n",
            " [8 8]\n",
            " [5 5]\n",
            " [3 3]\n",
            " [6 6]\n",
            " [3 3]\n",
            " [1 1]\n",
            " [4 4]\n",
            " [0 0]\n",
            " [4 4]\n",
            " [4 4]\n",
            " [8 8]\n",
            " [7 7]\n",
            " [9 9]\n",
            " [1 1]\n",
            " [5 5]\n",
            " [2 2]\n",
            " [7 7]\n",
            " [0 0]\n",
            " [9 9]\n",
            " [0 0]\n",
            " [4 4]\n",
            " [4 4]\n",
            " [0 0]\n",
            " [1 1]\n",
            " [0 0]\n",
            " [6 6]\n",
            " [4 4]\n",
            " [2 2]\n",
            " [8 8]\n",
            " [5 5]\n",
            " [0 0]\n",
            " [2 2]\n",
            " [6 6]\n",
            " [0 0]\n",
            " [1 1]\n",
            " [8 8]\n",
            " [2 2]\n",
            " [0 0]\n",
            " [9 9]\n",
            " [5 5]\n",
            " [6 6]\n",
            " [2 2]\n",
            " [0 0]\n",
            " [5 5]\n",
            " [0 0]\n",
            " [9 9]\n",
            " [1 1]\n",
            " [4 4]\n",
            " [7 7]\n",
            " [1 1]\n",
            " [7 7]\n",
            " [0 0]\n",
            " [6 6]\n",
            " [6 6]\n",
            " [8 8]\n",
            " [0 0]\n",
            " [2 2]\n",
            " [2 2]\n",
            " [6 6]\n",
            " [9 9]\n",
            " [9 9]\n",
            " [7 7]\n",
            " [5 5]\n",
            " [1 1]\n",
            " [7 7]\n",
            " [6 6]\n",
            " [4 4]\n",
            " [6 6]\n",
            " [1 1]\n",
            " [9 9]\n",
            " [4 4]\n",
            " [7 7]\n",
            " [1 1]\n",
            " [3 3]\n",
            " [7 7]\n",
            " [8 8]\n",
            " [1 1]\n",
            " [6 6]\n",
            " [9 9]\n",
            " [8 8]\n",
            " [3 3]\n",
            " [2 2]\n",
            " [4 4]\n",
            " [8 8]\n",
            " [7 7]\n",
            " [5 5]\n",
            " [5 5]\n",
            " [6 6]\n",
            " [9 9]\n",
            " [9 9]\n",
            " [8 8]\n",
            " [5 5]\n",
            " [0 0]\n",
            " [0 0]\n",
            " [4 4]\n",
            " [9 9]\n",
            " [3 3]\n",
            " [0 0]\n",
            " [4 4]\n",
            " [9 9]\n",
            " [4 4]\n",
            " [2 2]\n",
            " [5 5]\n",
            " [4 4]\n",
            " [9 9]\n",
            " [6 6]\n",
            " [4 4]\n",
            " [2 2]\n",
            " [6 6]\n",
            " [0 0]\n",
            " [0 0]\n",
            " [5 5]\n",
            " [6 6]\n",
            " [7 7]\n",
            " [1 1]\n",
            " [9 9]\n",
            " [2 2]\n",
            " [5 5]\n",
            " [1 1]\n",
            " [5 5]\n",
            " [9 9]\n",
            " [8 8]\n",
            " [7 7]\n",
            " [7 7]\n",
            " [0 0]\n",
            " [6 6]\n",
            " [9 9]\n",
            " [3 3]\n",
            " [1 1]\n",
            " [3 9]\n",
            " [3 3]\n",
            " [9 9]\n",
            " [8 8]\n",
            " [7 7]\n",
            " [0 0]\n",
            " [2 2]\n",
            " [3 3]\n",
            " [9 5]\n",
            " [9 9]\n",
            " [2 2]\n",
            " [8 8]\n",
            " [1 1]\n",
            " [9 9]\n",
            " [8 3]\n",
            " [3 3]\n",
            " [0 0]\n",
            " [0 0]\n",
            " [7 7]\n",
            " [3 3]\n",
            " [8 8]\n",
            " [7 7]\n",
            " [9 9]\n",
            " [9 9]\n",
            " [7 7]\n",
            " [1 1]\n",
            " [0 0]\n",
            " [4 4]\n",
            " [5 5]\n",
            " [4 4]\n",
            " [1 1]\n",
            " [7 7]\n",
            " [3 3]\n",
            " [6 6]\n",
            " [5 5]\n",
            " [4 4]\n",
            " [9 9]\n",
            " [0 0]\n",
            " [5 5]\n",
            " [9 9]\n",
            " [1 1]\n",
            " [4 4]\n",
            " [5 5]\n",
            " [0 0]\n",
            " [4 4]\n",
            " [3 3]\n",
            " [4 4]\n",
            " [2 2]\n",
            " [3 3]\n",
            " [9 9]\n",
            " [0 0]\n",
            " [8 8]\n",
            " [7 7]\n",
            " [8 8]\n",
            " [6 6]\n",
            " [9 9]\n",
            " [4 4]\n",
            " [5 5]\n",
            " [7 7]\n",
            " [8 8]\n",
            " [3 3]\n",
            " [7 7]\n",
            " [8 8]\n",
            " [3 3]]\n"
          ]
        }
      ]
    },
    {
      "cell_type": "markdown",
      "metadata": {
        "id": "Hce1d6zbUx2V"
      },
      "source": [
        "Data compresion in graphical way\n"
      ]
    },
    {
      "cell_type": "code",
      "metadata": {
        "colab": {
          "base_uri": "https://localhost:8080/",
          "height": 315
        },
        "id": "aHb9zAApN45f",
        "outputId": "274e4f9f-7cfd-4089-e335-8ebe4faf5f07"
      },
      "source": [
        "n=121\n",
        "result=model.predict(dataset.images[n].reshape((1,-1)))\n",
        "plt.imshow(dataset.images[n],cmap=plt.cm.gray_r,interpolation='nearest')\n",
        "print(result)\n",
        "print(\"\\n\")\n",
        "plt.axis(\"off\")\n",
        "plt.title('%i' %result)\n",
        "plt.show()"
      ],
      "execution_count": null,
      "outputs": [
        {
          "output_type": "stream",
          "name": "stdout",
          "text": [
            "[4]\n",
            "\n",
            "\n"
          ]
        },
        {
          "output_type": "display_data",
          "data": {
            "image/png": "[encoded data removed]",
            "text/plain": [
              "<Figure size 432x288 with 1 Axes>"
            ]
          },
          "metadata": {
            "needs_background": "light"
          }
        }
      ]
    },
    {
      "cell_type": "markdown",
      "metadata": {
        "id": "yVRciZ-2U6NF"
      },
      "source": [
        "**Model accuracy**"
      ]
    },
    {
      "cell_type": "code",
      "metadata": {
        "colab": {
          "base_uri": "https://localhost:8080/"
        },
        "id": "wqOJ6M3TiCH4",
        "outputId": "d73f3c42-b25b-4880-9ad1-991c76044cff"
      },
      "source": [
        "from sklearn.metrics import accuracy_score\n",
        "print( \"Accuracy of model = {0}%\".format(accuracy_score(y_test,y_pred)*100) )"
      ],
      "execution_count": null,
      "outputs": [
        {
          "output_type": "stream",
          "name": "stdout",
          "text": [
            "Accuracy of model = 98.44444444444444%\n"
          ]
        }
      ]
    },
    {
      "cell_type": "markdown",
      "metadata": {
        "id": "iUYVqsNnco9R"
      },
      "source": [
        "Dump my model as a pikel file"
      ]
    },
    {
      "cell_type": "code",
      "metadata": {
        "colab": {
          "base_uri": "https://localhost:8080/"
        },
        "id": "F8UKOZ2kajie",
        "outputId": "5fcd78fd-a2c4-4622-9139-5b5838a69d82"
      },
      "source": [
        "joblib.dump(model,\"Digit_recognisation.pkl\")"
      ],
      "execution_count": 32,
      "outputs": [
        {
          "output_type": "execute_result",
          "data": {
            "text/plain": [
              "['Digit_recognisation.pkl']"
            ]
          },
          "metadata": {},
          "execution_count": 32
        }
      ]
    },
    {
      "cell_type": "markdown",
      "metadata": {
        "id": "bsffkCT5dLaq"
      },
      "source": [
        "Loading of my model"
      ]
    },
    {
      "cell_type": "code",
      "metadata": {
        "id": "KocfERkVc3GS"
      },
      "source": [
        "loaded_model=joblib.load('/content/Digit_recognisation.pkl')"
      ],
      "execution_count": 45,
      "outputs": []
    },
    {
      "cell_type": "markdown",
      "metadata": {
        "id": "YEfaMuPRc74c"
      },
      "source": [
        "Test of loaded model  here \"n\" is the Nth no. of digit in given dataset"
      ]
    },
    {
      "cell_type": "code",
      "metadata": {
        "colab": {
          "base_uri": "https://localhost:8080/"
        },
        "id": "3ilui_MUaypE",
        "outputId": "10dd626e-1a7a-4c9e-f798-8a912cea453a"
      },
      "source": [
        "n=123\n",
        "result=loaded_model.predict(dataset.images[n].reshape((1,-1)))\n",
        "result"
      ],
      "execution_count": 44,
      "outputs": [
        {
          "output_type": "execute_result",
          "data": {
            "text/plain": [
              "array([8])"
            ]
          },
          "metadata": {},
          "execution_count": 44
        }
      ]
    }
  ]
}